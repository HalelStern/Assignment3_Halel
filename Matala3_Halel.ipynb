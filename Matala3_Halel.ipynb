{
 "cells": [
  {
   "cell_type": "markdown",
   "id": "86005332-756e-4932-92e0-9c5f500abadb",
   "metadata": {},
   "source": [
    "### Matala 3\n",
    "##### Present - Halel Shtern\n",
    "##### ID - 212122147"
   ]
  },
  {
   "cell_type": "code",
   "execution_count": 2,
   "id": "dc9c51f1-e5b7-4119-aded-daac91e2f8b0",
   "metadata": {},
   "outputs": [
    {
     "name": "stdout",
     "output_type": "stream",
     "text": [
      "Collecting googlemaps\n",
      "  Downloading googlemaps-4.10.0.tar.gz (33 kB)\n",
      "  Preparing metadata (setup.py): started\n",
      "  Preparing metadata (setup.py): finished with status 'done'\n",
      "Requirement already satisfied: requests<3.0,>=2.20.0 in c:\\users\\97250\\appdata\\local\\programs\\python\\python39\\lib\\site-packages (from googlemaps) (2.26.0)\n",
      "Requirement already satisfied: urllib3<1.27,>=1.21.1 in c:\\users\\97250\\appdata\\local\\programs\\python\\python39\\lib\\site-packages (from requests<3.0,>=2.20.0->googlemaps) (1.26.6)\n",
      "Requirement already satisfied: charset-normalizer~=2.0.0 in c:\\users\\97250\\appdata\\local\\programs\\python\\python39\\lib\\site-packages (from requests<3.0,>=2.20.0->googlemaps) (2.0.3)\n",
      "Requirement already satisfied: idna<4,>=2.5 in c:\\users\\97250\\appdata\\local\\programs\\python\\python39\\lib\\site-packages (from requests<3.0,>=2.20.0->googlemaps) (3.2)\n",
      "Requirement already satisfied: certifi>=2017.4.17 in c:\\users\\97250\\appdata\\local\\programs\\python\\python39\\lib\\site-packages (from requests<3.0,>=2.20.0->googlemaps) (2021.5.30)\n",
      "Using legacy 'setup.py install' for googlemaps, since package 'wheel' is not installed.\n",
      "Installing collected packages: googlemaps\n",
      "  Running setup.py install for googlemaps: started\n",
      "  Running setup.py install for googlemaps: finished with status 'done'\n",
      "Successfully installed googlemaps-4.10.0\n",
      "\n",
      "[notice] A new release of pip available: 22.1.2 -> 23.1.2\n",
      "[notice] To update, run: python.exe -m pip install --upgrade pip\n"
     ]
    }
   ],
   "source": [
    "#!pip install googlemaps"
   ]
  },
  {
   "cell_type": "code",
   "execution_count": 3,
   "id": "f7bfb859-c214-4d9d-b895-550d2f1176fb",
   "metadata": {},
   "outputs": [],
   "source": [
    "import pandas as pd\n",
    "import numpy as np\n",
    "import requests\n",
    "import googlemaps\n",
    "import json\n",
    "from datetime import datetime"
   ]
  },
  {
   "cell_type": "code",
   "execution_count": 17,
   "id": "c6cee185-8a9f-49a0-ae61-0e722cec9ce1",
   "metadata": {},
   "outputs": [
    {
     "data": {
      "text/html": [
       "<div>\n",
       "<style scoped>\n",
       "    .dataframe tbody tr th:only-of-type {\n",
       "        vertical-align: middle;\n",
       "    }\n",
       "\n",
       "    .dataframe tbody tr th {\n",
       "        vertical-align: top;\n",
       "    }\n",
       "\n",
       "    .dataframe thead th {\n",
       "        text-align: right;\n",
       "    }\n",
       "</style>\n",
       "<table border=\"1\" class=\"dataframe\">\n",
       "  <thead>\n",
       "    <tr style=\"text-align: right;\">\n",
       "      <th></th>\n",
       "      <th>Target</th>\n",
       "    </tr>\n",
       "  </thead>\n",
       "  <tbody>\n",
       "    <tr>\n",
       "      <th>0</th>\n",
       "      <td>Istanbul</td>\n",
       "    </tr>\n",
       "    <tr>\n",
       "      <th>1</th>\n",
       "      <td>Amsterdam</td>\n",
       "    </tr>\n",
       "    <tr>\n",
       "      <th>2</th>\n",
       "      <td>Valletta</td>\n",
       "    </tr>\n",
       "    <tr>\n",
       "      <th>3</th>\n",
       "      <td>Basel</td>\n",
       "    </tr>\n",
       "    <tr>\n",
       "      <th>4</th>\n",
       "      <td>Doha</td>\n",
       "    </tr>\n",
       "  </tbody>\n",
       "</table>\n",
       "</div>"
      ],
      "text/plain": [
       "      Target\n",
       "0   Istanbul\n",
       "1  Amsterdam\n",
       "2   Valletta\n",
       "3      Basel\n",
       "4       Doha"
      ]
     },
     "execution_count": 17,
     "metadata": {},
     "output_type": "execute_result"
    }
   ],
   "source": [
    "Data = pd.read_csv(\"dests.txt\" , sep=\" \", header=None, names=[\"Target\"])\n",
    "Data.head()"
   ]
  },
  {
   "cell_type": "code",
   "execution_count": 19,
   "id": "f986ae8b-b2ff-44ab-b8f9-c926b0cf4bae",
   "metadata": {},
   "outputs": [],
   "source": [
    "my_api_key = 'insert your API'\n",
    "now = datetime.now()"
   ]
  },
  {
   "cell_type": "code",
   "execution_count": 20,
   "id": "708431aa-bbd6-4a22-8c1e-4ef081a064b0",
   "metadata": {},
   "outputs": [
    {
     "data": {
      "text/html": [
       "<div>\n",
       "<style scoped>\n",
       "    .dataframe tbody tr th:only-of-type {\n",
       "        vertical-align: middle;\n",
       "    }\n",
       "\n",
       "    .dataframe tbody tr th {\n",
       "        vertical-align: top;\n",
       "    }\n",
       "\n",
       "    .dataframe thead th {\n",
       "        text-align: right;\n",
       "    }\n",
       "</style>\n",
       "<table border=\"1\" class=\"dataframe\">\n",
       "  <thead>\n",
       "    <tr style=\"text-align: right;\">\n",
       "      <th></th>\n",
       "      <th>Target</th>\n",
       "      <th>Distance_km</th>\n",
       "      <th>Time_between</th>\n",
       "      <th>Longitude</th>\n",
       "      <th>Latitude</th>\n",
       "    </tr>\n",
       "  </thead>\n",
       "  <tbody>\n",
       "    <tr>\n",
       "      <th>0</th>\n",
       "      <td>Istanbul</td>\n",
       "      <td>1,815 km</td>\n",
       "      <td>21 hours 3 mins</td>\n",
       "      <td>28.978379</td>\n",
       "      <td>41.008231</td>\n",
       "    </tr>\n",
       "    <tr>\n",
       "      <th>1</th>\n",
       "      <td>Amsterdam</td>\n",
       "      <td>4,533 km</td>\n",
       "      <td>2 days 0 hours</td>\n",
       "      <td>4.904181</td>\n",
       "      <td>52.367577</td>\n",
       "    </tr>\n",
       "    <tr>\n",
       "      <th>2</th>\n",
       "      <td>Valletta</td>\n",
       "      <td>5,058 km</td>\n",
       "      <td>2 days 8 hours</td>\n",
       "      <td>14.514102</td>\n",
       "      <td>35.899232</td>\n",
       "    </tr>\n",
       "    <tr>\n",
       "      <th>3</th>\n",
       "      <td>Basel</td>\n",
       "      <td>4,118 km</td>\n",
       "      <td>1 day 20 hours</td>\n",
       "      <td>7.588576</td>\n",
       "      <td>47.559599</td>\n",
       "    </tr>\n",
       "    <tr>\n",
       "      <th>4</th>\n",
       "      <td>Doha</td>\n",
       "      <td>2,164 km</td>\n",
       "      <td>22 hours 39 mins</td>\n",
       "      <td>51.531033</td>\n",
       "      <td>25.285447</td>\n",
       "    </tr>\n",
       "  </tbody>\n",
       "</table>\n",
       "</div>"
      ],
      "text/plain": [
       "      Target Distance_km      Time_between  Longitude   Latitude\n",
       "0   Istanbul    1,815 km   21 hours 3 mins  28.978379  41.008231\n",
       "1  Amsterdam    4,533 km    2 days 0 hours   4.904181  52.367577\n",
       "2   Valletta    5,058 km    2 days 8 hours  14.514102  35.899232\n",
       "3      Basel    4,118 km    1 day 20 hours   7.588576  47.559599\n",
       "4       Doha    2,164 km  22 hours 39 mins  51.531033  25.285447"
      ]
     },
     "execution_count": 20,
     "metadata": {},
     "output_type": "execute_result"
    }
   ],
   "source": [
    "for index,row in Data.iterrows():\n",
    "    google_maps_client = googlemaps.Client(key = my_api_key)\n",
    "    main_location =\"Tel Aviv,Israel\"\n",
    "    direction_result =   google_maps_client.directions(main_location, row['Target'],mode = 'driving',avoid ='ferries',departure_time = now)\n",
    "    \n",
    "    Data.loc[index,'Distance_km'] = direction_result[0]['legs'][0]['distance']['text']\n",
    "    Data.loc[index,'Time_between'] = direction_result[0]['legs'][0]['duration']['text']\n",
    "    Data.loc[index,'Longitude'] = direction_result[0]['legs'][0]['end_location']['lng']\n",
    "    Data.loc[index,'Latitude'] = direction_result[0]['legs'][0]['end_location']['lat']\n",
    "    \n",
    "Data"
   ]
  }
 ],
 "metadata": {
  "kernelspec": {
   "display_name": "Python 3 (ipykernel)",
   "language": "python",
   "name": "python3"
  },
  "language_info": {
   "codemirror_mode": {
    "name": "ipython",
    "version": 3
   },
   "file_extension": ".py",
   "mimetype": "text/x-python",
   "name": "python",
   "nbconvert_exporter": "python",
   "pygments_lexer": "ipython3",
   "version": "3.9.6"
  }
 },
 "nbformat": 4,
 "nbformat_minor": 5
}
